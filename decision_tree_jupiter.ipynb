{
 "cells": [
  {
   "cell_type": "code",
   "execution_count": 31,
   "metadata": {},
   "outputs": [
    {
     "name": "stdout",
     "output_type": "stream",
     "text": [
      "recommend\n"
     ]
    }
   ],
   "source": [
    "import numpy as np\n",
    "import pandas as pd\n",
    "\n",
    "\n",
    "def get_entropy(labels):\n",
    "    return sum([-x*np.log2(x) for x in labels.valuecounts()])\n",
    "\n",
    "\n",
    "#part a\n",
    "df = pd.read_csv('nursery.csv')\n",
    "df.dropna()\n",
    "train = df.sample(frac=0.8, random_state=200)\n",
    "test = df.drop(train.index)\n",
    "\n",
    "# print (train.shape,test.shape)\n",
    "size=df.shape[0]\n",
    "#max size of entropy is log2(5)=2.32\n",
    "# print(sum([-x/size*np.log2(x/size) for x in df['final evaluation'].value_counts()]))\n",
    "print(df['final evaluation'][0])\n",
    "# print(get_entropy(df['final evaluation']))\n"
   ]
  }
 ],
 "metadata": {
  "kernelspec": {
   "display_name": "Python 3.8.8 ('base')",
   "language": "python",
   "name": "python3"
  },
  "language_info": {
   "codemirror_mode": {
    "name": "ipython",
    "version": 3
   },
   "file_extension": ".py",
   "mimetype": "text/x-python",
   "name": "python",
   "nbconvert_exporter": "python",
   "pygments_lexer": "ipython3",
   "version": "3.8.8"
  },
  "orig_nbformat": 4,
  "vscode": {
   "interpreter": {
    "hash": "ebeff0bc52a96863f1efb0edd7b2c4c1c6a58da5e5b97a93057c59d7293164cc"
   }
  }
 },
 "nbformat": 4,
 "nbformat_minor": 2
}
