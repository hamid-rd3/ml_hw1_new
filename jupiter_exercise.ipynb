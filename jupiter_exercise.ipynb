{
 "cells": [
  {
   "cell_type": "code",
   "execution_count": 4,
   "metadata": {},
   "outputs": [],
   "source": [
    "from decision_tree import tree ,pd ,time\n",
    "# part a\n",
    "df1 = pd.read_csv('nursery.csv')\n",
    "df1.dropna()\n",
    "train = df1.sample(frac=0.8, random_state=3)\n",
    "test = df1.drop(train.index)"
   ]
  },
  {
   "cell_type": "code",
   "execution_count": 7,
   "metadata": {},
   "outputs": [
    {
     "name": "stdout",
     "output_type": "stream",
     "text": [
      "attribute = health \n",
      " [branch -> childs] : \n",
      " {'recommended': attribute = priority, 'priority': attribute = spec_prior, 'not_recom': attribute = not_recom}\n",
      " \n",
      "predicted y :\n",
      " 7        spec_prior\n",
      "11        not_recom\n",
      "12         priority\n",
      "14        not_recom\n",
      "32        not_recom\n",
      "            ...    \n",
      "12946    spec_prior\n",
      "12954      priority\n",
      "12956     not_recom\n",
      "12958    spec_prior\n",
      "12959     not_recom\n",
      "Name: final evaluation, Length: 2592, dtype: object \n",
      "\n",
      "accuracy -> 71.0 %\n",
      "duration ->  107.0 ms\n"
     ]
    }
   ],
   "source": [
    "\n",
    "start = time.time()\n",
    "t = tree(df1, 8)  # complete tree\n",
    "t.fit()\n",
    "print(t.root)\n",
    "print(f\"predicted y :\\n {t.predict(test[test.columns[:-1]])} \\n\")\n",
    "print(f\"accuracy -> {t.accuracy(test[test.columns[-1]])*100} %\")\n",
    "print(\"duration -> \" ,round(time.time()-start, 3)*1000,'ms')\n"
   ]
  },
  {
   "cell_type": "code",
   "execution_count": 10,
   "metadata": {},
   "outputs": [
    {
     "name": "stdout",
     "output_type": "stream",
     "text": [
      "50 % train data depth 6 (gini)\n",
      "predicted y :\n",
      " 2         not_recom\n",
      "3        very_recom\n",
      "4          priority\n",
      "5         not_recom\n",
      "7          priority\n",
      "            ...    \n",
      "12954    spec_prior\n",
      "12956     not_recom\n",
      "12957    spec_prior\n",
      "12958    spec_prior\n",
      "12959     not_recom\n",
      "Name: final evaluation, Length: 6480, dtype: object \n",
      "\n",
      "accuracy -> 95.0 %\n",
      "duration ->  4710.0 ms\n",
      "50 % train data depth 6 (entropy)\n",
      "predicted y :\n",
      " 2         not_recom\n",
      "3        very_recom\n",
      "4          priority\n",
      "5         not_recom\n",
      "7          priority\n",
      "            ...    \n",
      "12954    spec_prior\n",
      "12956     not_recom\n",
      "12957    spec_prior\n",
      "12958    spec_prior\n",
      "12959     not_recom\n",
      "Name: final evaluation, Length: 6480, dtype: object \n",
      "\n",
      "accuracy -> 95.0 %\n",
      "duration ->  9329.0 ms\n"
     ]
    }
   ],
   "source": [
    "#part b \n",
    "train = df1.sample(frac=0.50, random_state=3)\n",
    "test = df1.drop(train.index)\n",
    "start = time.time()\n",
    "t1 = tree(df1, 6,'gini')  \n",
    "t1.fit()\n",
    "print(\"50 % train data depth 6 (gini)\")\n",
    "# print(t1.root)\n",
    "print(f\"predicted y :\\n {t1.predict(test[test.columns[:-1]])} \\n\")\n",
    "print(f\"accuracy -> {t1.accuracy(test[test.columns[-1]])*100} %\")\n",
    "print(\"duration -> \", round(time.time()-start, 3)*1000, 'ms')\n",
    "\n",
    "t11 = tree(df1, 6, 'entropy')\n",
    "t11.fit()\n",
    "print(\"50 % train data depth 6 (entropy)\")\n",
    "# print(t11.root)\n",
    "print(f\"predicted y :\\n {t11.predict(test[test.columns[:-1]])} \\n\")\n",
    "print(f\"accuracy -> {t11.accuracy(test[test.columns[-1]])*100} %\")\n",
    "print(\"duration -> \", round(time.time()-start, 3)*1000, 'ms')\n"
   ]
  },
  {
   "cell_type": "code",
   "execution_count": 11,
   "metadata": {},
   "outputs": [
    {
     "name": "stdout",
     "output_type": "stream",
     "text": [
      "50 % train data depth 8 (gini)\n",
      "predicted y :\n",
      " 2         not_recom\n",
      "3        very_recom\n",
      "4          priority\n",
      "5         not_recom\n",
      "7          priority\n",
      "            ...    \n",
      "12954    spec_prior\n",
      "12956     not_recom\n",
      "12957    spec_prior\n",
      "12958    spec_prior\n",
      "12959     not_recom\n",
      "Name: final evaluation, Length: 6480, dtype: object \n",
      "\n",
      "accuracy -> 100.0 %\n",
      "duration ->  28035.0 ms\n",
      "50 % train data depth 8 (entropy)\n",
      "predicted y :\n",
      " 2         not_recom\n",
      "3        very_recom\n",
      "4          priority\n",
      "5         not_recom\n",
      "7          priority\n",
      "            ...    \n",
      "12954    spec_prior\n",
      "12956     not_recom\n",
      "12957    spec_prior\n",
      "12958    spec_prior\n",
      "12959     not_recom\n",
      "Name: final evaluation, Length: 6480, dtype: object \n",
      "\n",
      "accuracy -> 100.0 %\n",
      "duration ->  57415.0 ms\n"
     ]
    }
   ],
   "source": [
    "t2 = tree(df1, 8, 'gini')\n",
    "start = time.time()\n",
    "t2.fit()\n",
    "print(\"50 % train data depth 8 (gini)\")\n",
    "# print(t2.root)\n",
    "print(f\"predicted y :\\n {t2.predict(test[test.columns[:-1]])} \\n\")\n",
    "print(f\"accuracy -> {t2.accuracy(test[test.columns[-1]])*100} %\")\n",
    "print(\"duration -> \", round(time.time()-start, 3)*1000, 'ms')\n",
    "\n",
    "t11 = tree(df1, 8, 'entropy')\n",
    "t11.fit()\n",
    "print(\"50 % train data depth 8 (entropy)\")\n",
    "# print(t11.root)\n",
    "print(f\"predicted y :\\n {t11.predict(test[test.columns[:-1]])} \\n\")\n",
    "print(f\"accuracy -> {t11.accuracy(test[test.columns[-1]])*100} %\")\n",
    "print(\"duration -> \", round(time.time()-start, 3)*1000, 'ms')\n"
   ]
  },
  {
   "cell_type": "code",
   "execution_count": 12,
   "metadata": {},
   "outputs": [
    {
     "name": "stdout",
     "output_type": "stream",
     "text": [
      "75 % train data depth 6 (gini)\n",
      "predicted y :\n",
      " 3        very_recom\n",
      "10         priority\n",
      "16         priority\n",
      "18         priority\n",
      "22         priority\n",
      "            ...    \n",
      "12931    spec_prior\n",
      "12935     not_recom\n",
      "12936    spec_prior\n",
      "12948    spec_prior\n",
      "12954    spec_prior\n",
      "Name: final evaluation, Length: 3240, dtype: object \n",
      "\n",
      "accuracy -> 95.0 %\n",
      "duration ->  4618.0 ms\n",
      "75 % train data depth 6 (entropy)\n",
      "predicted y :\n",
      " 3        very_recom\n",
      "10         priority\n",
      "16         priority\n",
      "18         priority\n",
      "22         priority\n",
      "            ...    \n",
      "12931    spec_prior\n",
      "12935     not_recom\n",
      "12936    spec_prior\n",
      "12948    spec_prior\n",
      "12954    spec_prior\n",
      "Name: final evaluation, Length: 3240, dtype: object \n",
      "\n",
      "accuracy -> 95.0 %\n",
      "duration ->  9253.0 ms\n"
     ]
    }
   ],
   "source": [
    "train = df1.sample(frac=0.75, random_state=5)\n",
    "test = df1.drop(train.index)\n",
    "start = time.time()\n",
    "t1 = tree(df1, 6)\n",
    "t1.fit()\n",
    "print(\"75 % train data depth 6 (gini)\")\n",
    "# print(t1.root)\n",
    "print(f\"predicted y :\\n {t1.predict(test[test.columns[:-1]])} \\n\")\n",
    "print(f\"accuracy -> {t1.accuracy(test[test.columns[-1]])*100} %\")\n",
    "print(\"duration -> \", round(time.time()-start, 3)*1000, 'ms')\n",
    "\n",
    "t11 = tree(df1, 6, 'entropy')\n",
    "t11.fit()\n",
    "print(\"75 % train data depth 6 (entropy)\")\n",
    "# print(t11.root)\n",
    "print(f\"predicted y :\\n {t11.predict(test[test.columns[:-1]])} \\n\")\n",
    "print(f\"accuracy -> {t11.accuracy(test[test.columns[-1]])*100} %\")\n",
    "print(\"duration -> \", round(time.time()-start, 3)*1000, 'ms')\n"
   ]
  },
  {
   "cell_type": "code",
   "execution_count": 13,
   "metadata": {},
   "outputs": [
    {
     "name": "stdout",
     "output_type": "stream",
     "text": [
      "75 % train data depth 8 (gini)\n",
      "predicted y :\n",
      " 3        very_recom\n",
      "10         priority\n",
      "16         priority\n",
      "18       very_recom\n",
      "22         priority\n",
      "            ...    \n",
      "12931    spec_prior\n",
      "12935     not_recom\n",
      "12936    spec_prior\n",
      "12948    spec_prior\n",
      "12954    spec_prior\n",
      "Name: final evaluation, Length: 3240, dtype: object \n",
      "\n",
      "accuracy -> 100.0 %\n",
      "duration ->  29124.0 ms\n",
      "75 % train data depth 8 (entropy)\n",
      "predicted y :\n",
      " 3        very_recom\n",
      "10         priority\n",
      "16         priority\n",
      "18         priority\n",
      "22         priority\n",
      "            ...    \n",
      "12931    spec_prior\n",
      "12935     not_recom\n",
      "12936    spec_prior\n",
      "12948    spec_prior\n",
      "12954    spec_prior\n",
      "Name: final evaluation, Length: 3240, dtype: object \n",
      "\n",
      "accuracy -> 95.0 %\n",
      "duration ->  33764.0 ms\n"
     ]
    }
   ],
   "source": [
    "t2 = tree(df1, 8)\n",
    "start = time.time()\n",
    "t2.fit()\n",
    "print(\"75 % train data depth 8 (gini)\")\n",
    "# print(t2.root)\n",
    "print(f\"predicted y :\\n {t2.predict(test[test.columns[:-1]])} \\n\")\n",
    "print(f\"accuracy -> {t2.accuracy(test[test.columns[-1]])*100} %\")\n",
    "print(\"duration -> \", round(time.time()-start, 3)*1000, 'ms')\n",
    "\n",
    "t11 = tree(df1, 6, 'entropy')\n",
    "t11.fit()\n",
    "print(\"75 % train data depth 8 (entropy)\")\n",
    "# print(t11.root)\n",
    "print(f\"predicted y :\\n {t11.predict(test[test.columns[:-1]])} \\n\")\n",
    "print(f\"accuracy -> {t11.accuracy(test[test.columns[-1]])*100} %\")\n",
    "print(\"duration -> \", round(time.time()-start, 3)*1000, 'ms')\n"
   ]
  }
 ],
 "metadata": {
  "kernelspec": {
   "display_name": "Python 3.8.8 ('base')",
   "language": "python",
   "name": "python3"
  },
  "language_info": {
   "codemirror_mode": {
    "name": "ipython",
    "version": 3
   },
   "file_extension": ".py",
   "mimetype": "text/x-python",
   "name": "python",
   "nbconvert_exporter": "python",
   "pygments_lexer": "ipython3",
   "version": "3.8.8"
  },
  "orig_nbformat": 4,
  "vscode": {
   "interpreter": {
    "hash": "ebeff0bc52a96863f1efb0edd7b2c4c1c6a58da5e5b97a93057c59d7293164cc"
   }
  }
 },
 "nbformat": 4,
 "nbformat_minor": 2
}
